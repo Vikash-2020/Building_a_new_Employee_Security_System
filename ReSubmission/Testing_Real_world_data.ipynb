{
 "cells": [
  {
   "cell_type": "markdown",
   "id": "8d18016a",
   "metadata": {},
   "source": [
    "# Training and Testing on the Real-world Data"
   ]
  },
  {
   "cell_type": "markdown",
   "id": "34c796f5",
   "metadata": {},
   "source": [
    "## Importing Dependencies"
   ]
  },
  {
   "cell_type": "code",
   "execution_count": 413,
   "id": "ccc34c24",
   "metadata": {},
   "outputs": [],
   "source": [
    "import numpy as np\n",
    "import pandas as pd\n",
    "import seaborn as sns\n",
    "import matplotlib.pyplot as plt \n",
    "from sklearn.metrics import accuracy_score, confusion_matrix\n",
    "import tensorflow as tf\n",
    "from scipy.stats import mode\n",
    "from sklearn.preprocessing import LabelEncoder\n",
    "from sklearn.model_selection import train_test_split, cross_val_score\n",
    "from sklearn.naive_bayes import GaussianNB"
   ]
  },
  {
   "cell_type": "markdown",
   "id": "23798a94",
   "metadata": {},
   "source": [
    "## Load Data"
   ]
  },
  {
   "cell_type": "code",
   "execution_count": 414,
   "id": "8a74c152",
   "metadata": {},
   "outputs": [
    {
     "data": {
      "text/html": [
       "<div>\n",
       "<style scoped>\n",
       "    .dataframe tbody tr th:only-of-type {\n",
       "        vertical-align: middle;\n",
       "    }\n",
       "\n",
       "    .dataframe tbody tr th {\n",
       "        vertical-align: top;\n",
       "    }\n",
       "\n",
       "    .dataframe thead th {\n",
       "        text-align: right;\n",
       "    }\n",
       "</style>\n",
       "<table border=\"1\" class=\"dataframe\">\n",
       "  <thead>\n",
       "    <tr style=\"text-align: right;\">\n",
       "      <th></th>\n",
       "      <th>tBodyAccmeanX</th>\n",
       "      <th>tBodyAccmeanY</th>\n",
       "      <th>tBodyAccmeanZ</th>\n",
       "      <th>tBodyGyromeanX</th>\n",
       "      <th>tBodyGyromeanY</th>\n",
       "      <th>tBodyGyromeanZ</th>\n",
       "      <th>subject_id</th>\n",
       "    </tr>\n",
       "  </thead>\n",
       "  <tbody>\n",
       "    <tr>\n",
       "      <th>count</th>\n",
       "      <td>4872.000000</td>\n",
       "      <td>4872.000000</td>\n",
       "      <td>4872.000000</td>\n",
       "      <td>4872.000000</td>\n",
       "      <td>4872.000000</td>\n",
       "      <td>4872.000000</td>\n",
       "      <td>4872.000000</td>\n",
       "    </tr>\n",
       "    <tr>\n",
       "      <th>mean</th>\n",
       "      <td>0.264804</td>\n",
       "      <td>-0.024246</td>\n",
       "      <td>-0.117693</td>\n",
       "      <td>-0.041157</td>\n",
       "      <td>-0.066931</td>\n",
       "      <td>0.075895</td>\n",
       "      <td>16.219622</td>\n",
       "    </tr>\n",
       "    <tr>\n",
       "      <th>std</th>\n",
       "      <td>0.233493</td>\n",
       "      <td>0.220502</td>\n",
       "      <td>0.194817</td>\n",
       "      <td>0.293583</td>\n",
       "      <td>0.186248</td>\n",
       "      <td>0.165768</td>\n",
       "      <td>9.195062</td>\n",
       "    </tr>\n",
       "    <tr>\n",
       "      <th>min</th>\n",
       "      <td>-2.690703</td>\n",
       "      <td>-2.770156</td>\n",
       "      <td>-2.737031</td>\n",
       "      <td>-2.576875</td>\n",
       "      <td>-1.000000</td>\n",
       "      <td>-0.902860</td>\n",
       "      <td>1.000000</td>\n",
       "    </tr>\n",
       "    <tr>\n",
       "      <th>25%</th>\n",
       "      <td>0.227334</td>\n",
       "      <td>-0.035884</td>\n",
       "      <td>-0.136319</td>\n",
       "      <td>-0.173880</td>\n",
       "      <td>-0.158673</td>\n",
       "      <td>0.022368</td>\n",
       "      <td>8.000000</td>\n",
       "    </tr>\n",
       "    <tr>\n",
       "      <th>50%</th>\n",
       "      <td>0.273955</td>\n",
       "      <td>-0.019023</td>\n",
       "      <td>-0.111437</td>\n",
       "      <td>-0.032013</td>\n",
       "      <td>-0.073248</td>\n",
       "      <td>0.083989</td>\n",
       "      <td>16.000000</td>\n",
       "    </tr>\n",
       "    <tr>\n",
       "      <th>75%</th>\n",
       "      <td>0.322771</td>\n",
       "      <td>-0.002077</td>\n",
       "      <td>-0.084654</td>\n",
       "      <td>0.092652</td>\n",
       "      <td>0.020336</td>\n",
       "      <td>0.137396</td>\n",
       "      <td>24.000000</td>\n",
       "    </tr>\n",
       "    <tr>\n",
       "      <th>max</th>\n",
       "      <td>2.548359</td>\n",
       "      <td>2.161641</td>\n",
       "      <td>1.767969</td>\n",
       "      <td>1.330234</td>\n",
       "      <td>0.867266</td>\n",
       "      <td>0.937352</td>\n",
       "      <td>31.000000</td>\n",
       "    </tr>\n",
       "  </tbody>\n",
       "</table>\n",
       "</div>"
      ],
      "text/plain": [
       "       tBodyAccmeanX  tBodyAccmeanY  tBodyAccmeanZ  tBodyGyromeanX  \\\n",
       "count    4872.000000    4872.000000    4872.000000     4872.000000   \n",
       "mean        0.264804      -0.024246      -0.117693       -0.041157   \n",
       "std         0.233493       0.220502       0.194817        0.293583   \n",
       "min        -2.690703      -2.770156      -2.737031       -2.576875   \n",
       "25%         0.227334      -0.035884      -0.136319       -0.173880   \n",
       "50%         0.273955      -0.019023      -0.111437       -0.032013   \n",
       "75%         0.322771      -0.002077      -0.084654        0.092652   \n",
       "max         2.548359       2.161641       1.767969        1.330234   \n",
       "\n",
       "       tBodyGyromeanY  tBodyGyromeanZ   subject_id  \n",
       "count     4872.000000     4872.000000  4872.000000  \n",
       "mean        -0.066931        0.075895    16.219622  \n",
       "std          0.186248        0.165768     9.195062  \n",
       "min         -1.000000       -0.902860     1.000000  \n",
       "25%         -0.158673        0.022368     8.000000  \n",
       "50%         -0.073248        0.083989    16.000000  \n",
       "75%          0.020336        0.137396    24.000000  \n",
       "max          0.867266        0.937352    31.000000  "
      ]
     },
     "execution_count": 414,
     "metadata": {},
     "output_type": "execute_result"
    }
   ],
   "source": [
    "# Load new data with addtional realtime data of user with subject id 31.\n",
    "df = pd.read_csv(r'D:\\Dataset\\2020-03-13\\Untitled Folder\\data_for_testing.csv', index_col=None)\n",
    "df.head()\n",
    "df.tail()\n",
    "df.describe()"
   ]
  },
  {
   "cell_type": "code",
   "execution_count": 415,
   "id": "d67b80c0",
   "metadata": {},
   "outputs": [
    {
     "data": {
      "text/html": [
       "<div>\n",
       "<style scoped>\n",
       "    .dataframe tbody tr th:only-of-type {\n",
       "        vertical-align: middle;\n",
       "    }\n",
       "\n",
       "    .dataframe tbody tr th {\n",
       "        vertical-align: top;\n",
       "    }\n",
       "\n",
       "    .dataframe thead th {\n",
       "        text-align: right;\n",
       "    }\n",
       "</style>\n",
       "<table border=\"1\" class=\"dataframe\">\n",
       "  <thead>\n",
       "    <tr style=\"text-align: right;\">\n",
       "      <th></th>\n",
       "      <th>tBodyAccmeanX</th>\n",
       "      <th>tBodyAccmeanY</th>\n",
       "      <th>tBodyAccmeanZ</th>\n",
       "      <th>tBodyGyromeanX</th>\n",
       "      <th>tBodyGyromeanY</th>\n",
       "      <th>tBodyGyromeanZ</th>\n",
       "      <th>subject_id</th>\n",
       "      <th>activity_label</th>\n",
       "    </tr>\n",
       "  </thead>\n",
       "  <tbody>\n",
       "    <tr>\n",
       "      <th>4867</th>\n",
       "      <td>-0.295625</td>\n",
       "      <td>0.858984</td>\n",
       "      <td>1.289922</td>\n",
       "      <td>-0.332109</td>\n",
       "      <td>0.139609</td>\n",
       "      <td>0.031719</td>\n",
       "      <td>31</td>\n",
       "      <td>WALKING</td>\n",
       "    </tr>\n",
       "    <tr>\n",
       "      <th>4868</th>\n",
       "      <td>2.368359</td>\n",
       "      <td>-0.118359</td>\n",
       "      <td>0.873203</td>\n",
       "      <td>-0.152578</td>\n",
       "      <td>0.191250</td>\n",
       "      <td>0.051719</td>\n",
       "      <td>31</td>\n",
       "      <td>WALKING</td>\n",
       "    </tr>\n",
       "    <tr>\n",
       "      <th>4869</th>\n",
       "      <td>1.100937</td>\n",
       "      <td>-1.361094</td>\n",
       "      <td>-0.526719</td>\n",
       "      <td>-0.018672</td>\n",
       "      <td>0.041016</td>\n",
       "      <td>0.288984</td>\n",
       "      <td>31</td>\n",
       "      <td>WALKING</td>\n",
       "    </tr>\n",
       "    <tr>\n",
       "      <th>4870</th>\n",
       "      <td>-1.327656</td>\n",
       "      <td>-1.121484</td>\n",
       "      <td>-1.628594</td>\n",
       "      <td>-0.390547</td>\n",
       "      <td>-0.222266</td>\n",
       "      <td>0.269531</td>\n",
       "      <td>31</td>\n",
       "      <td>WALKING</td>\n",
       "    </tr>\n",
       "    <tr>\n",
       "      <th>4871</th>\n",
       "      <td>-1.630000</td>\n",
       "      <td>0.203437</td>\n",
       "      <td>-0.924844</td>\n",
       "      <td>0.279375</td>\n",
       "      <td>-0.259219</td>\n",
       "      <td>0.289531</td>\n",
       "      <td>31</td>\n",
       "      <td>WALKING</td>\n",
       "    </tr>\n",
       "  </tbody>\n",
       "</table>\n",
       "</div>"
      ],
      "text/plain": [
       "      tBodyAccmeanX  tBodyAccmeanY  tBodyAccmeanZ  tBodyGyromeanX  \\\n",
       "4867      -0.295625       0.858984       1.289922       -0.332109   \n",
       "4868       2.368359      -0.118359       0.873203       -0.152578   \n",
       "4869       1.100937      -1.361094      -0.526719       -0.018672   \n",
       "4870      -1.327656      -1.121484      -1.628594       -0.390547   \n",
       "4871      -1.630000       0.203437      -0.924844        0.279375   \n",
       "\n",
       "      tBodyGyromeanY  tBodyGyromeanZ  subject_id activity_label  \n",
       "4867        0.139609        0.031719          31        WALKING  \n",
       "4868        0.191250        0.051719          31        WALKING  \n",
       "4869        0.041016        0.288984          31        WALKING  \n",
       "4870       -0.222266        0.269531          31        WALKING  \n",
       "4871       -0.259219        0.289531          31        WALKING  "
      ]
     },
     "execution_count": 415,
     "metadata": {},
     "output_type": "execute_result"
    }
   ],
   "source": [
    "df.tail()"
   ]
  },
  {
   "cell_type": "markdown",
   "id": "64cca1f3",
   "metadata": {},
   "source": [
    "## Spliting Features and Labels"
   ]
  },
  {
   "cell_type": "code",
   "execution_count": 416,
   "id": "3e07bd18",
   "metadata": {},
   "outputs": [
    {
     "data": {
      "text/plain": [
       "array([ 1,  3,  5,  6,  7,  8, 11, 14, 15, 16, 17, 19, 21, 22, 23, 25, 26,\n",
       "       27, 28, 29, 30,  2,  4,  9, 10, 12, 13, 18, 20, 24, 31],\n",
       "      dtype=int64)"
      ]
     },
     "execution_count": 416,
     "metadata": {},
     "output_type": "execute_result"
    }
   ],
   "source": [
    "X = df.iloc[:,:-2]\n",
    "y = df.iloc[:,-2]\n",
    "y.unique()\n",
    "# list(X.columns)"
   ]
  },
  {
   "cell_type": "markdown",
   "id": "4e8bd023",
   "metadata": {},
   "source": [
    "## Applying PCA"
   ]
  },
  {
   "cell_type": "code",
   "execution_count": 417,
   "id": "e5fa4f8f",
   "metadata": {},
   "outputs": [],
   "source": [
    "from sklearn.decomposition import PCA\n",
    "\n",
    "# Apply PCA to the training and test data separately\n",
    "pca = PCA(n_components=6) # Choosing 6 number of components to retain\n",
    "df_pca = pca.fit_transform(df[list(df.columns[:-1])])\n",
    "\n",
    "# Convert the PCA transformed data into a dataframe\n",
    "X = pd.DataFrame(df_pca, columns=[f\"PC{i+1}\" for i in range(pca.n_components_)])"
   ]
  },
  {
   "cell_type": "code",
   "execution_count": 418,
   "id": "9500b48b",
   "metadata": {},
   "outputs": [
    {
     "data": {
      "text/html": [
       "<div>\n",
       "<style scoped>\n",
       "    .dataframe tbody tr th:only-of-type {\n",
       "        vertical-align: middle;\n",
       "    }\n",
       "\n",
       "    .dataframe tbody tr th {\n",
       "        vertical-align: top;\n",
       "    }\n",
       "\n",
       "    .dataframe thead th {\n",
       "        text-align: right;\n",
       "    }\n",
       "</style>\n",
       "<table border=\"1\" class=\"dataframe\">\n",
       "  <thead>\n",
       "    <tr style=\"text-align: right;\">\n",
       "      <th></th>\n",
       "      <th>PC1</th>\n",
       "      <th>PC2</th>\n",
       "      <th>PC3</th>\n",
       "      <th>PC4</th>\n",
       "      <th>PC5</th>\n",
       "      <th>PC6</th>\n",
       "    </tr>\n",
       "  </thead>\n",
       "  <tbody>\n",
       "    <tr>\n",
       "      <th>0</th>\n",
       "      <td>15.219278</td>\n",
       "      <td>0.495775</td>\n",
       "      <td>-0.041350</td>\n",
       "      <td>0.038873</td>\n",
       "      <td>0.001875</td>\n",
       "      <td>-0.061819</td>\n",
       "    </tr>\n",
       "    <tr>\n",
       "      <th>1</th>\n",
       "      <td>15.219824</td>\n",
       "      <td>-0.209824</td>\n",
       "      <td>0.051484</td>\n",
       "      <td>0.021864</td>\n",
       "      <td>0.049840</td>\n",
       "      <td>-0.050049</td>\n",
       "    </tr>\n",
       "    <tr>\n",
       "      <th>2</th>\n",
       "      <td>15.219885</td>\n",
       "      <td>-0.281492</td>\n",
       "      <td>0.070870</td>\n",
       "      <td>-0.056787</td>\n",
       "      <td>0.059264</td>\n",
       "      <td>-0.076186</td>\n",
       "    </tr>\n",
       "    <tr>\n",
       "      <th>3</th>\n",
       "      <td>15.219807</td>\n",
       "      <td>-0.155072</td>\n",
       "      <td>-0.011627</td>\n",
       "      <td>-0.008594</td>\n",
       "      <td>0.093027</td>\n",
       "      <td>0.026229</td>\n",
       "    </tr>\n",
       "    <tr>\n",
       "      <th>4</th>\n",
       "      <td>15.219515</td>\n",
       "      <td>-0.006660</td>\n",
       "      <td>0.033381</td>\n",
       "      <td>0.029551</td>\n",
       "      <td>0.003779</td>\n",
       "      <td>0.064546</td>\n",
       "    </tr>\n",
       "  </tbody>\n",
       "</table>\n",
       "</div>"
      ],
      "text/plain": [
       "         PC1       PC2       PC3       PC4       PC5       PC6\n",
       "0  15.219278  0.495775 -0.041350  0.038873  0.001875 -0.061819\n",
       "1  15.219824 -0.209824  0.051484  0.021864  0.049840 -0.050049\n",
       "2  15.219885 -0.281492  0.070870 -0.056787  0.059264 -0.076186\n",
       "3  15.219807 -0.155072 -0.011627 -0.008594  0.093027  0.026229\n",
       "4  15.219515 -0.006660  0.033381  0.029551  0.003779  0.064546"
      ]
     },
     "execution_count": 418,
     "metadata": {},
     "output_type": "execute_result"
    }
   ],
   "source": [
    "X.head()"
   ]
  },
  {
   "cell_type": "markdown",
   "id": "0f62d982",
   "metadata": {},
   "source": [
    "## train test split"
   ]
  },
  {
   "cell_type": "code",
   "execution_count": 419,
   "id": "0f9fdb1f",
   "metadata": {},
   "outputs": [
    {
     "name": "stdout",
     "output_type": "stream",
     "text": [
      "(3410, 6)\n",
      "(1462, 6)\n",
      "(3410,)\n",
      "(1462,)\n"
     ]
    }
   ],
   "source": [
    "from sklearn.model_selection import train_test_split\n",
    "x_train,x_test,y_train,y_test = train_test_split(X,y,train_size = 0.7,stratify=y)\n",
    "\n",
    "print(x_train.shape)\n",
    "print(x_test.shape)\n",
    "print(y_train.shape)\n",
    "print(y_test.shape)"
   ]
  },
  {
   "cell_type": "markdown",
   "id": "ea821ad6",
   "metadata": {},
   "source": [
    "## Applying Navie Bayes classification"
   ]
  },
  {
   "cell_type": "code",
   "execution_count": 420,
   "id": "67872f42",
   "metadata": {},
   "outputs": [
    {
     "data": {
      "text/plain": [
       "'Training the model with additional Real world data with subject ID 31.'"
      ]
     },
     "execution_count": 420,
     "metadata": {},
     "output_type": "execute_result"
    }
   ],
   "source": [
    "\"\"\"Training the model with additional Real world data with subject ID 31.\"\"\""
   ]
  },
  {
   "cell_type": "code",
   "execution_count": 421,
   "id": "4f259411",
   "metadata": {},
   "outputs": [],
   "source": [
    "from sklearn.preprocessing import StandardScaler\n",
    "# Standardizing the Data\n",
    "sc = StandardScaler()\n",
    "x_train = sc.fit_transform(x_train)\n",
    "x_test = sc.transform(x_test)"
   ]
  },
  {
   "cell_type": "code",
   "execution_count": 422,
   "id": "f7754f9a",
   "metadata": {},
   "outputs": [
    {
     "name": "stdout",
     "output_type": "stream",
     "text": [
      "Naive Bayes test accuracy score:  1.0\n",
      "Naive Bayes train accuracy score:  1.0\n"
     ]
    },
    {
     "data": {
      "text/plain": [
       "Text(69.0, 0.5, 'Truth')"
      ]
     },
     "execution_count": 422,
     "metadata": {},
     "output_type": "execute_result"
    },
    {
     "data": {
      "image/png": "[encoded data removed]",
      "text/plain": [
       "<Figure size 720x504 with 2 Axes>"
      ]
     },
     "metadata": {
      "needs_background": "light"
     },
     "output_type": "display_data"
    }
   ],
   "source": [
    "nb= GaussianNB()\n",
    "nb.fit(x_train, y_train)\n",
    "print(\"Naive Bayes test accuracy score: \",nb.score(x_test, y_test))\n",
    "print(\"Naive Bayes train accuracy score: \",nb.score(x_train, y_train))\n",
    "\n",
    "preds5 = nb.predict(x_test)\n",
    "cm = tf.math.confusion_matrix(labels=y_test,predictions=preds5)\n",
    "plt.figure(figsize=(10,7))\n",
    "sns.heatmap(cm,annot=True,fmt='d')\n",
    "plt.xlabel('Predicated')\n",
    "plt.ylabel('Truth')"
   ]
  },
  {
   "cell_type": "markdown",
   "id": "c193e249",
   "metadata": {},
   "source": [
    "## Testing the Model on Real World data"
   ]
  },
  {
   "cell_type": "code",
   "execution_count": 423,
   "id": "38d58669",
   "metadata": {},
   "outputs": [
    {
     "data": {
      "text/html": [
       "<div>\n",
       "<style scoped>\n",
       "    .dataframe tbody tr th:only-of-type {\n",
       "        vertical-align: middle;\n",
       "    }\n",
       "\n",
       "    .dataframe tbody tr th {\n",
       "        vertical-align: top;\n",
       "    }\n",
       "\n",
       "    .dataframe thead th {\n",
       "        text-align: right;\n",
       "    }\n",
       "</style>\n",
       "<table border=\"1\" class=\"dataframe\">\n",
       "  <thead>\n",
       "    <tr style=\"text-align: right;\">\n",
       "      <th></th>\n",
       "      <th>PC1</th>\n",
       "      <th>PC2</th>\n",
       "      <th>PC3</th>\n",
       "      <th>PC4</th>\n",
       "      <th>PC5</th>\n",
       "      <th>PC6</th>\n",
       "    </tr>\n",
       "  </thead>\n",
       "  <tbody>\n",
       "    <tr>\n",
       "      <th>0</th>\n",
       "      <td>-1.290586</td>\n",
       "      <td>1.298209</td>\n",
       "      <td>0.149169</td>\n",
       "      <td>0.368897</td>\n",
       "      <td>0.029282</td>\n",
       "      <td>0.054873</td>\n",
       "    </tr>\n",
       "    <tr>\n",
       "      <th>1</th>\n",
       "      <td>-0.318320</td>\n",
       "      <td>1.969425</td>\n",
       "      <td>1.243563</td>\n",
       "      <td>0.410254</td>\n",
       "      <td>0.034710</td>\n",
       "      <td>-0.034482</td>\n",
       "    </tr>\n",
       "    <tr>\n",
       "      <th>2</th>\n",
       "      <td>2.143280</td>\n",
       "      <td>-0.545909</td>\n",
       "      <td>1.277312</td>\n",
       "      <td>-0.430811</td>\n",
       "      <td>-0.154395</td>\n",
       "      <td>-0.160471</td>\n",
       "    </tr>\n",
       "    <tr>\n",
       "      <th>3</th>\n",
       "      <td>2.122603</td>\n",
       "      <td>-1.234726</td>\n",
       "      <td>-0.209543</td>\n",
       "      <td>0.790420</td>\n",
       "      <td>0.529122</td>\n",
       "      <td>-0.433921</td>\n",
       "    </tr>\n",
       "    <tr>\n",
       "      <th>4</th>\n",
       "      <td>-1.442930</td>\n",
       "      <td>-1.184292</td>\n",
       "      <td>-0.708963</td>\n",
       "      <td>0.070367</td>\n",
       "      <td>0.640229</td>\n",
       "      <td>-0.295906</td>\n",
       "    </tr>\n",
       "  </tbody>\n",
       "</table>\n",
       "</div>"
      ],
      "text/plain": [
       "        PC1       PC2       PC3       PC4       PC5       PC6\n",
       "0 -1.290586  1.298209  0.149169  0.368897  0.029282  0.054873\n",
       "1 -0.318320  1.969425  1.243563  0.410254  0.034710 -0.034482\n",
       "2  2.143280 -0.545909  1.277312 -0.430811 -0.154395 -0.160471\n",
       "3  2.122603 -1.234726 -0.209543  0.790420  0.529122 -0.433921\n",
       "4 -1.442930 -1.184292 -0.708963  0.070367  0.640229 -0.295906"
      ]
     },
     "execution_count": 423,
     "metadata": {},
     "output_type": "execute_result"
    }
   ],
   "source": [
    "# loading user generated data with subject_id 31.\n",
    "test_input_data = pd.read_csv('test_input_data.csv',index_col=None)\n",
    "test_input_data.head()"
   ]
  },
  {
   "cell_type": "markdown",
   "id": "be9ed956",
   "metadata": {},
   "source": [
    "### Prediction Function "
   ]
  },
  {
   "cell_type": "code",
   "execution_count": 425,
   "id": "7f8cc046",
   "metadata": {},
   "outputs": [],
   "source": [
    "def Prediction(input_data):\n",
    "    \"\"\"This function takes the input_data as pandas dataframe and returns the predicted subject_ID\"\"\"\n",
    "    \n",
    "    # Standardizing the Data\n",
    "    sc = StandardScaler()\n",
    "    input_data = sc.fit_transform(input_data)\n",
    "    \n",
    "    outputList = []\n",
    "    for i in range(len(test_inputs)):\n",
    "        outputList.append(nb.predict(input_data[i].reshape(1, -1)))\n",
    "        \n",
    "    outputDict = {}\n",
    "    for i in outputList:\n",
    "        if list(i)[0] in outputDict.keys():\n",
    "            outputDict[list(i)[0]] += 1\n",
    "        else:\n",
    "            outputDict[list(i)[0]] = 1\n",
    "    \n",
    "    predicted_Subject_id = max(outputDict, key= lambda x: outputDict[x])\n",
    "    \n",
    "    return predicted_Subject_id"
   ]
  },
  {
   "cell_type": "code",
   "execution_count": 426,
   "id": "f92c4c1d",
   "metadata": {},
   "outputs": [
    {
     "name": "stdout",
     "output_type": "stream",
     "text": [
      "The predicted subject_id is: 31\n"
     ]
    }
   ],
   "source": [
    "print(f\"The predicted subject_id is: {Prediction(test_input_data)}\")"
   ]
  },
  {
   "cell_type": "code",
   "execution_count": null,
   "id": "bf72fbf1",
   "metadata": {},
   "outputs": [],
   "source": []
  }
 ],
 "metadata": {
  "kernelspec": {
   "display_name": "Python 3 (ipykernel)",
   "language": "python",
   "name": "python3"
  },
  "language_info": {
   "codemirror_mode": {
    "name": "ipython",
    "version": 3
   },
   "file_extension": ".py",
   "mimetype": "text/x-python",
   "name": "python",
   "nbconvert_exporter": "python",
   "pygments_lexer": "ipython3",
   "version": "3.8.10"
  }
 },
 "nbformat": 4,
 "nbformat_minor": 5
}
