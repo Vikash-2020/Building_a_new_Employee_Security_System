{
 "cells": [
  {
   "cell_type": "markdown",
   "id": "e68f0792",
   "metadata": {},
   "source": [
    "# Deep Learning Approach for Human Identification using Inertial Signals"
   ]
  },
  {
   "cell_type": "markdown",
   "id": "0bea72c3",
   "metadata": {},
   "source": [
    "## Importing Dependencies"
   ]
  },
  {
   "cell_type": "code",
   "execution_count": 22,
   "id": "d7b394fd",
   "metadata": {},
   "outputs": [],
   "source": [
    "from numpy import dstack\n",
    "from pandas import read_csv\n",
    "from keras.models import Sequential\n",
    "from keras.layers import Dense\n",
    "from keras.layers import Flatten\n",
    "from keras.layers import Dropout\n",
    "from keras.layers import LSTM, ConvLSTM2D\n",
    "from keras.layers import Permute, Reshape\n",
    "from keras.utils import to_categorical\n",
    "from matplotlib import pyplot as plt\n",
    "import seaborn as sns\n",
    "import numpy as np\n",
    "from sklearn import metrics"
   ]
  },
  {
   "cell_type": "code",
   "execution_count": 23,
   "id": "701a841b",
   "metadata": {},
   "outputs": [],
   "source": [
    "import os\n",
    "os.getcwd()\n",
    "os.chdir(r\"C:\\Users\\Vishal Sahni\\Desktop\\Docu3c_Internship\\Gait_Analysis\\UCI HAR Dataset\")"
   ]
  },
  {
   "cell_type": "code",
   "execution_count": 24,
   "id": "af2f291f",
   "metadata": {},
   "outputs": [
    {
     "data": {
      "text/plain": [
       "'C:\\\\Users\\\\Vishal Sahni\\\\Desktop\\\\Docu3c_Internship\\\\Gait_Analysis\\\\UCI HAR Dataset'"
      ]
     },
     "execution_count": 24,
     "metadata": {},
     "output_type": "execute_result"
    }
   ],
   "source": [
    "os.getcwd()"
   ]
  },
  {
   "cell_type": "markdown",
   "id": "f22719bc",
   "metadata": {},
   "source": [
    "## Functions to load Inertial Signals"
   ]
  },
  {
   "cell_type": "code",
   "execution_count": 25,
   "id": "2d9576d6",
   "metadata": {},
   "outputs": [],
   "source": [
    "# load a single file as a numpy array\n",
    "def load_file(filepath):\n",
    "    dataframe = read_csv(filepath, header=None, delim_whitespace=True)\n",
    "    return dataframe.values"
   ]
  },
  {
   "cell_type": "code",
   "execution_count": 26,
   "id": "026a4757",
   "metadata": {},
   "outputs": [],
   "source": [
    "# load a list of files and return as a 3d numpy array\n",
    "def load_group(filenames, prefix=''):\n",
    "    loaded = list()\n",
    "    for name in filenames:\n",
    "        data = load_file(prefix + name)\n",
    "        loaded.append(data)\n",
    "    # stack group so that features are the 3rd dimension\n",
    "    loaded = dstack(loaded)\n",
    "    return loaded"
   ]
  },
  {
   "cell_type": "code",
   "execution_count": 27,
   "id": "809666a8",
   "metadata": {},
   "outputs": [],
   "source": [
    "# load a dataset group, such as train or test\n",
    "def load_dataset_group(group, prefix=''):\n",
    "    filepath = prefix + group + '/Inertial Signals/'\n",
    "    print('File Path : ',filepath)\n",
    "    # load all 9 files as a single array\n",
    "    filenames = list()\n",
    "    # total acceleration\n",
    "    filenames += ['total_acc_x_'+group+'.txt', 'total_acc_y_'+group+'.txt', 'total_acc_z_'+group+'.txt']\n",
    "    # body acceleration\n",
    "    filenames += ['body_acc_x_'+group+'.txt', 'body_acc_y_'+group+'.txt', 'body_acc_z_'+group+'.txt']\n",
    "    # body gyroscope\n",
    "    filenames += ['body_gyro_x_'+group+'.txt', 'body_gyro_y_'+group+'.txt', 'body_gyro_z_'+group+'.txt']\n",
    "    # load input data\n",
    "    X = load_group(filenames, filepath)\n",
    "    # load class output\n",
    "    y = load_file(prefix + group + '/subject_'+group+'.txt')\n",
    "    return X, y"
   ]
  },
  {
   "cell_type": "code",
   "execution_count": 28,
   "id": "52979ad3",
   "metadata": {},
   "outputs": [
    {
     "name": "stdout",
     "output_type": "stream",
     "text": [
      "File Path :  C:/Users/Vishal Sahni/Desktop/Docu3c_Internship/Gait_Analysis/UCI HAR Dataset/train/Inertial Signals/\n",
      "X.shape :  (7352, 128, 9)\n",
      "Y.shape :  (7352, 30)\n"
     ]
    }
   ],
   "source": [
    "# load Features and Labels\n",
    "X, Y = load_dataset_group('train', 'C:/Users/Vishal Sahni/Desktop/Docu3c_Internship/Gait_Analysis/UCI HAR Dataset/')\n",
    "\n",
    "# zero-offset class values\n",
    "Y = Y - 1\n",
    "\n",
    "# one hot encode y\n",
    "Y = to_categorical(Y)\n",
    "\n",
    "print('X.shape : ', X.shape)\n",
    "print('Y.shape : ', Y.shape)"
   ]
  },
  {
   "cell_type": "markdown",
   "id": "70fcef20",
   "metadata": {},
   "source": [
    "## Reshaping and Spliting the data "
   ]
  },
  {
   "cell_type": "code",
   "execution_count": 29,
   "id": "cda0fbd4",
   "metadata": {},
   "outputs": [
    {
     "name": "stdout",
     "output_type": "stream",
     "text": [
      "X_train.shape :  (5146, 128, 9)\n",
      "Y_train.shape :  (5146, 30)\n",
      "X_test.shape :  (2206, 128, 9)\n",
      "Y_test.shape :  (2206, 30)\n"
     ]
    }
   ],
   "source": [
    "from sklearn.model_selection import train_test_split\n",
    "\n",
    "# Reshape the input data to (samples, features)\n",
    "X = X.reshape(X.shape[0], -1)\n",
    "\n",
    "# Split the data into training and testing sets\n",
    "X_train, X_test, Y_train, Y_test = train_test_split(X, Y, test_size=0.3)\n",
    "\n",
    "# Reshape the input data back to its original shape\n",
    "X_train = X_train.reshape(X_train.shape[0], 128, 9)\n",
    "X_test = X_test.reshape(X_test.shape[0], 128, 9)\n",
    "\n",
    "\n",
    "print('X_train.shape : ', X_train.shape)\n",
    "print('Y_train.shape : ', Y_train.shape)\n",
    "print('X_test.shape : ', X_test.shape)\n",
    "print('Y_test.shape : ', Y_test.shape)"
   ]
  },
  {
   "cell_type": "code",
   "execution_count": 30,
   "id": "573c2456",
   "metadata": {},
   "outputs": [
    {
     "name": "stdout",
     "output_type": "stream",
     "text": [
      "X_train.shape :  (5146, 4, 1, 32, 9)\n",
      "X_test.shape :  (2206, 4, 1, 32, 9)\n"
     ]
    }
   ],
   "source": [
    "n_timesteps = X_train.shape[1]\n",
    "n_features = X_train.shape[2]\n",
    "n_outputs = Y_train.shape[1]\n",
    "\n",
    "# reshape into subsequences (samples, time steps, rows, cols, channels)\n",
    "n_steps, n_length = 4, 32\n",
    "\n",
    "X_train = X_train.reshape((X_train.shape[0], n_steps, 1, n_length, n_features))\n",
    "X_test = X_test.reshape((X_test.shape[0], n_steps, 1, n_length, n_features))"
   ]
  },
  {
   "cell_type": "markdown",
   "id": "2c03398b",
   "metadata": {},
   "source": [
    "## Implementing and Training the RNN model"
   ]
  },
  {
   "cell_type": "code",
   "execution_count": 31,
   "id": "9d5a4edf",
   "metadata": {},
   "outputs": [
    {
     "name": "stdout",
     "output_type": "stream",
     "text": [
      "Epoch 1/30\n",
      "258/258 [==============================] - 8s 25ms/step - loss: 2.7319 - accuracy: 0.1627 - val_loss: 2.2903 - val_accuracy: 0.2570\n",
      "Epoch 2/30\n",
      "258/258 [==============================] - 6s 24ms/step - loss: 2.0010 - accuracy: 0.3515 - val_loss: 1.8007 - val_accuracy: 0.4356\n",
      "Epoch 3/30\n",
      "258/258 [==============================] - 6s 25ms/step - loss: 1.5699 - accuracy: 0.4825 - val_loss: 1.4823 - val_accuracy: 0.5136\n",
      "Epoch 4/30\n",
      "258/258 [==============================] - 7s 29ms/step - loss: 1.2924 - accuracy: 0.5626 - val_loss: 1.2804 - val_accuracy: 0.5743\n",
      "Epoch 5/30\n",
      "258/258 [==============================] - 7s 27ms/step - loss: 1.1220 - accuracy: 0.6248 - val_loss: 1.1993 - val_accuracy: 0.6029\n",
      "Epoch 6/30\n",
      "258/258 [==============================] - 7s 27ms/step - loss: 1.0083 - accuracy: 0.6560 - val_loss: 1.1362 - val_accuracy: 0.6092\n",
      "Epoch 7/30\n",
      "258/258 [==============================] - 6s 24ms/step - loss: 0.9194 - accuracy: 0.6827 - val_loss: 1.1037 - val_accuracy: 0.6292\n",
      "Epoch 8/30\n",
      "258/258 [==============================] - 6s 25ms/step - loss: 0.8779 - accuracy: 0.7027 - val_loss: 1.0411 - val_accuracy: 0.6455\n",
      "Epoch 9/30\n",
      "258/258 [==============================] - 7s 26ms/step - loss: 0.8330 - accuracy: 0.7225 - val_loss: 0.9778 - val_accuracy: 0.6673\n",
      "Epoch 10/30\n",
      "258/258 [==============================] - 6s 24ms/step - loss: 0.7715 - accuracy: 0.7328 - val_loss: 0.9422 - val_accuracy: 0.6677\n",
      "Epoch 11/30\n",
      "258/258 [==============================] - 7s 26ms/step - loss: 0.7504 - accuracy: 0.7408 - val_loss: 0.9081 - val_accuracy: 0.6863\n",
      "Epoch 12/30\n",
      "258/258 [==============================] - 7s 25ms/step - loss: 0.7148 - accuracy: 0.7517 - val_loss: 0.8271 - val_accuracy: 0.7131\n",
      "Epoch 13/30\n",
      "258/258 [==============================] - 8s 31ms/step - loss: 0.6775 - accuracy: 0.7592 - val_loss: 0.9296 - val_accuracy: 0.6908\n",
      "Epoch 14/30\n",
      "258/258 [==============================] - 7s 28ms/step - loss: 0.6466 - accuracy: 0.7742 - val_loss: 0.8618 - val_accuracy: 0.7330\n",
      "Epoch 15/30\n",
      "258/258 [==============================] - 6s 25ms/step - loss: 0.6339 - accuracy: 0.7771 - val_loss: 0.8478 - val_accuracy: 0.7230\n",
      "Epoch 16/30\n",
      "258/258 [==============================] - 6s 25ms/step - loss: 0.6118 - accuracy: 0.7814 - val_loss: 0.8199 - val_accuracy: 0.7357\n",
      "Epoch 17/30\n",
      "258/258 [==============================] - 7s 26ms/step - loss: 0.6088 - accuracy: 0.7835 - val_loss: 0.7712 - val_accuracy: 0.7380\n",
      "Epoch 18/30\n",
      "258/258 [==============================] - 8s 30ms/step - loss: 0.5693 - accuracy: 0.7987 - val_loss: 0.7770 - val_accuracy: 0.7421\n",
      "Epoch 19/30\n",
      "258/258 [==============================] - 8s 29ms/step - loss: 0.5748 - accuracy: 0.7979 - val_loss: 0.7628 - val_accuracy: 0.7480\n",
      "Epoch 20/30\n",
      "258/258 [==============================] - 7s 26ms/step - loss: 0.5295 - accuracy: 0.8078 - val_loss: 0.8124 - val_accuracy: 0.7298\n",
      "Epoch 21/30\n",
      "258/258 [==============================] - 7s 26ms/step - loss: 0.5243 - accuracy: 0.8066 - val_loss: 0.8092 - val_accuracy: 0.7457\n",
      "Epoch 22/30\n",
      "258/258 [==============================] - 7s 26ms/step - loss: 0.5125 - accuracy: 0.8113 - val_loss: 0.7602 - val_accuracy: 0.7516\n",
      "Epoch 23/30\n",
      "258/258 [==============================] - 8s 29ms/step - loss: 0.5109 - accuracy: 0.8169 - val_loss: 0.8553 - val_accuracy: 0.7199\n",
      "Epoch 24/30\n",
      "258/258 [==============================] - 8s 31ms/step - loss: 0.4750 - accuracy: 0.8282 - val_loss: 0.9566 - val_accuracy: 0.7185\n",
      "Epoch 25/30\n",
      "258/258 [==============================] - 7s 27ms/step - loss: 0.4793 - accuracy: 0.8288 - val_loss: 0.6911 - val_accuracy: 0.7634\n",
      "Epoch 26/30\n",
      "258/258 [==============================] - 7s 27ms/step - loss: 0.4649 - accuracy: 0.8304 - val_loss: 0.6757 - val_accuracy: 0.7665\n",
      "Epoch 27/30\n",
      "258/258 [==============================] - 7s 26ms/step - loss: 0.4175 - accuracy: 0.8469 - val_loss: 0.7766 - val_accuracy: 0.7575\n",
      "Epoch 28/30\n",
      "258/258 [==============================] - 7s 29ms/step - loss: 0.4343 - accuracy: 0.8395 - val_loss: 0.7559 - val_accuracy: 0.7620\n",
      "Epoch 29/30\n",
      "258/258 [==============================] - 8s 30ms/step - loss: 0.3964 - accuracy: 0.8560 - val_loss: 0.8505 - val_accuracy: 0.7393\n",
      "Epoch 30/30\n",
      "258/258 [==============================] - 7s 26ms/step - loss: 0.4066 - accuracy: 0.8494 - val_loss: 0.9058 - val_accuracy: 0.7557\n",
      "111/111 [==============================] - 1s 5ms/step - loss: 0.9058 - accuracy: 0.7557\n",
      "[INFO] loss=0.9058, accuracy: 75.5666%\n"
     ]
    }
   ],
   "source": [
    "verbose = 1\n",
    "epochs = 30\n",
    "batch_size = 20\n",
    "\n",
    "# define model\n",
    "model = Sequential()\n",
    "model.add(ConvLSTM2D(filters=64, kernel_size=(1,3), activation='relu', input_shape=(n_steps, 1, n_length, n_features)))\n",
    "model.add(Dropout(0.1))\n",
    "model.add(Flatten())\n",
    "model.add(Dense(128, activation='relu'))\n",
    "model.add(Dense(n_outputs, activation='softmax'))\n",
    "\n",
    "model.compile(loss='categorical_crossentropy', optimizer='adam', metrics=['accuracy'])\n",
    "\n",
    "# fit network\n",
    "hist = model.fit(X_train, Y_train, epochs=epochs, validation_data=(X_test, Y_test), batch_size=batch_size, verbose=verbose)\n",
    "\n",
    "# evaluate model\n",
    "(loss, accuracy) = model.evaluate(X_test, Y_test, batch_size=batch_size, verbose=verbose)\n",
    "print(\"[INFO] loss={:.4f}, accuracy: {:.4f}%\".format(loss, accuracy * 100))"
   ]
  },
  {
   "cell_type": "markdown",
   "id": "8a67d9c1",
   "metadata": {},
   "source": [
    "## Model Evalution and Confusion Matrix"
   ]
  },
  {
   "cell_type": "code",
   "execution_count": 32,
   "id": "73023a30",
   "metadata": {},
   "outputs": [
    {
     "name": "stdout",
     "output_type": "stream",
     "text": [
      "161/161 [==============================] - 1s 8ms/step\n",
      "69/69 [==============================] - 1s 7ms/step\n"
     ]
    },
    {
     "data": {
      "image/png": "[encoded data removed]",
      "text/plain": [
       "<Figure size 1080x720 with 2 Axes>"
      ]
     },
     "metadata": {
      "needs_background": "light"
     },
     "output_type": "display_data"
    }
   ],
   "source": [
    "# Print confusion matrix for training data\n",
    "y_pred_train = model.predict(X_train)\n",
    "\n",
    "# Take the class with the highest probability from the train predictions\n",
    "max_y_pred_train = np.argmax(y_pred_train, axis=1)\n",
    "\n",
    "# confusion matrix\n",
    "LABELS = [i for i in range(21)]\n",
    "\n",
    "y_pred_test = model.predict(X_test)\n",
    "\n",
    "# Take the class with the highest probability from the test predictions\n",
    "max_y_pred_test = np.argmax(y_pred_test, axis=1)\n",
    "max_y_test = np.argmax(Y_test, axis=1)\n",
    "\n",
    "matrix = metrics.confusion_matrix(max_y_test, max_y_pred_test)\n",
    "plt.figure(figsize=(15, 10))\n",
    "sns.heatmap(matrix,\n",
    "            cmap='PiYG_r',\n",
    "            linecolor='white',\n",
    "            linewidths=1,\n",
    "            xticklabels=LABELS,\n",
    "            yticklabels=LABELS,\n",
    "            annot=True,\n",
    "            fmt='d')\n",
    "plt.title('Confusion Matrix')\n",
    "plt.ylabel('True Label')\n",
    "plt.xlabel('Predicted Label')\n",
    "plt.show()"
   ]
  },
  {
   "cell_type": "code",
   "execution_count": null,
   "id": "b96f0326",
   "metadata": {},
   "outputs": [],
   "source": []
  },
  {
   "cell_type": "code",
   "execution_count": null,
   "id": "e9bf317d",
   "metadata": {},
   "outputs": [],
   "source": []
  }
 ],
 "metadata": {
  "kernelspec": {
   "display_name": "Python 3 (ipykernel)",
   "language": "python",
   "name": "python3"
  },
  "language_info": {
   "codemirror_mode": {
    "name": "ipython",
    "version": 3
   },
   "file_extension": ".py",
   "mimetype": "text/x-python",
   "name": "python",
   "nbconvert_exporter": "python",
   "pygments_lexer": "ipython3",
   "version": "3.8.10"
  }
 },
 "nbformat": 4,
 "nbformat_minor": 5
}
